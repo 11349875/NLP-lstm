{
 "cells": [
  {
   "cell_type": "code",
   "execution_count": 1,
   "id": "88653442",
   "metadata": {},
   "outputs": [
    {
     "name": "stdout",
     "output_type": "stream",
     "text": [
      "2.4.1\n",
      "Found GPU at: /device:GPU:0\n"
     ]
    }
   ],
   "source": [
    "import tensorflow as tf\n",
    "import keras\n",
    "from keras import backend as K\n",
    "from tensorflow.python.client import device_lib\n",
    "from statsmodels.base.model import GenericLikelihoodModel,\\\n",
    "        GenericLikelihoodModelResults\n",
    "from tensorflow.compat.v1.keras.layers import CuDNNLSTM\n",
    "from tensorflow.keras import layers\n",
    "from tensorflow.keras import regularizers\n",
    "import pandas as pd\n",
    "import re\n",
    "import numpy as np\n",
    "from tensorflow.keras.constraints import max_norm\n",
    "from sklearn.model_selection import train_test_split\n",
    "import requests\n",
    "from nltk import tokenize\n",
    "from keras.preprocessing.text import Tokenizer\n",
    "from keras.utils import to_categorical\n",
    "from keras.preprocessing.sequence import pad_sequences\n",
    "from keras.utils.vis_utils import plot_model\n",
    "from keras.models import Sequential\n",
    "from keras.layers import Dense\n",
    "from keras.layers import GRU, LSTM\n",
    "from keras.layers import Embedding\n",
    "from timeit import default_timer as timer\n",
    "import math\n",
    "import random\n",
    "from collections import defaultdict\n",
    "from keras.models import model_from_json\n",
    "import h5py\n",
    "import numpy as np\n",
    "import sentencepiece as spm\n",
    "from sklearn.model_selection import train_test_split\n",
    "import collections\n",
    "from keras.models import Sequential\n",
    "from keras.layers import Dense\n",
    "from keras.layers import Dropout\n",
    "from keras.wrappers.scikit_learn import KerasClassifier\n",
    "from sklearn.model_selection import GridSearchCV\n",
    "from keras import backend as K\n",
    "import scipy\n",
    "from sklearn.datasets import make_classification\n",
    "from sklearn.model_selection import train_test_split\n",
    "from sklearn.linear_model import SGDClassifier\n",
    "from keras.callbacks import EarlyStopping\n",
    "from sklearn.metrics import log_loss, make_scorer\n",
    "import time\n",
    "from sklearn.model_selection import StratifiedKFold\n",
    "from keras.regularizers import l1\n",
    "from keras.regularizers import l2\n",
    "from sklearn.model_selection import train_test_split\n",
    "import os\n",
    "import matplotlib.pyplot as plt\n",
    "import codecs\n",
    "import warnings\n",
    "warnings.filterwarnings(\"ignore\")\n",
    "warnings.simplefilter(action='ignore', category=FutureWarning)\n",
    "from statsmodels.nonparametric.smoothers_lowess import lowess\n",
    "from scipy.special import zeta\n",
    "from scipy.stats import binom\n",
    "from scipy.special import zeta\n",
    "from scipy.misc import derivative\n",
    "from scipy.stats import mannwhitneyu\n",
    "from collections import Counter\n",
    "print(tf.__version__)\n",
    "\n",
    "device_name = tf.test.gpu_device_name()\n",
    "if device_name != '/device:GPU:0':\n",
    "  raise SystemError('GPU device not found')\n",
    "\n",
    "print('Found GPU at: {}'.format(device_name))\n",
    "lg = np.log10"
   ]
  },
  {
   "cell_type": "code",
   "execution_count": 3,
   "id": "646af34c",
   "metadata": {},
   "outputs": [
    {
     "name": "stdout",
     "output_type": "stream",
     "text": [
      "10036\n",
      "==================================================\n",
      "MANDELBROT\n",
      "  Optimal Parameters (1.14, 3.87)\n",
      "  Standard Error [relative]: (0.00035, 0.0244), [(0.000307, 0.00631)]\n",
      "  Pseudo R^2: 0.657\n",
      "  BIC [relative]: 3640000.0, [2.91]\n",
      "==================================================\n"
     ]
    },
    {
     "data": {
      "text/plain": [
       "True"
      ]
     },
     "execution_count": 3,
     "metadata": {},
     "output_type": "execute_result"
    }
   ],
   "source": [
    "text = '1000000_26_2'\n",
    "\n",
    "file = 'CLEAN_' + text + '.txt'\n",
    "path = text + '/'\n",
    "\n",
    "\n",
    "direc = text + '/'\n",
    "os.mkdir(text)\n",
    "\n",
    "# Cleans the file of weird characters etc. Then creates a new one in a seperate directory, this is mainly all\n",
    "# done for mapping purposes, so i have everything in the right place.\n",
    "infile = codecs.open('texts/' + text + '.txt','r',encoding='utf-8',errors='ignore')\n",
    "outfile = codecs.open(direc + 'CLEAN_' + text + '.txt','w',encoding='utf-8',errors='ignore')\n",
    "\n",
    "for sent in infile.readlines():\n",
    "    a = ''.join([i for i in sent if not re.findall(\"[^\\u0000-\\u05C0\\u2100-\\u214F]+\",i)])\n",
    "    if len(a.split()) > 2:\n",
    "        outfile.write(a)\n",
    "outfile.close()\n",
    "\n",
    "with open(path + file, encoding=\"utf8\") as handle:\n",
    "    sentences =  [l.strip()[0:-1] for l in handle.readlines()]\n",
    "\n",
    "sentences1 = []\n",
    "for sent in sentences:\n",
    "    sent = re.sub(r\"\\s+\", \" \", sent)\n",
    "    sentences1.append(sent.strip())\n",
    "\n",
    "\n",
    "# Remove sentences shorter than 50 and remove 1/3 of the data\n",
    "x = []\n",
    "for i in sentences1:\n",
    "    if len(i.split()) > 2 and len(i.split()) < 50:\n",
    "        x.append(i)\n",
    "x = x[0:(int(len(x)/1.5))]\n",
    "\n",
    "# Calculate vocab size and make V a fraction of that\n",
    "data = ' '.join(x)\n",
    "word_tokeniser = Tokenizer()\n",
    "word_tokeniser.fit_on_texts([data])\n",
    "v = len(word_tokeniser.word_index) + 1\n",
    "v = int(v*0.06)\n",
    "print(v)\n",
    "\n",
    "# Train sentence piece model and save it in the directory of the clean text\n",
    "spm.SentencePieceTrainer.train(input=direc + 'CLEAN_' + text + '.txt', model_prefix=direc + 'encoding' , vocab_size=v)\n",
    "\n",
    "\n",
    "# Create a txtfile with info about the text, typicality etc.\n",
    "txtfile = codecs.open(direc + 'textinfo.txt','w',encoding='utf-8',errors='ignore')\n",
    "txtfile.write(\"Vocab size = \" + str(v) + '\\n')\n",
    "txtfile.write(\"Amount of sentences = \" + str(len(x))+ '\\n')\n",
    "\n",
    "\n",
    "sp = spm.SentencePieceProcessor(model_file=path + 'encoding.model')\n",
    "sp.SetEncodeExtraOptions('bos:eos')\n"
   ]
  },
  {
   "cell_type": "code",
   "execution_count": 4,
   "id": "4e7ac2d3",
   "metadata": {},
   "outputs": [
    {
     "name": "stdout",
     "output_type": "stream",
     "text": [
      "[1]\n",
      "2109\n",
      "[1, 2109]\n",
      "6422\n"
     ]
    }
   ],
   "source": [
    "\n",
    "X = []\n",
    "X1 = []\n",
    "y = []\n",
    "\n",
    "# Encode sentences with \n",
    "for sentence in x:\n",
    "    count = 1\n",
    "    temp = sp.encode(sentence)\n",
    "    for subword in temp:\n",
    "        X.append(temp[0:count])\n",
    "        if count < len(temp):\n",
    "            y.append(temp[count])\n",
    "        count+=1\n",
    "\n",
    "X1 = []\n",
    "for A in X:\n",
    "    if 2 not in A:\n",
    "        X1.append(A)\n",
    "\n",
    "X = X1\n",
    "print(X[0])\n",
    "print(y[0])\n",
    "\n",
    "print(X[1])\n",
    "print(y[1])\n",
    "y = to_categorical(y, num_classes=v)"
   ]
  },
  {
   "cell_type": "code",
   "execution_count": 5,
   "id": "21eca638",
   "metadata": {},
   "outputs": [
    {
     "name": "stdout",
     "output_type": "stream",
     "text": [
      "167\n",
      "1217325\n",
      "1217325\n"
     ]
    }
   ],
   "source": [
    "# Max sent length for padding\n",
    "max1 = 0\n",
    "for i in X:\n",
    "    if len(i) > max1:\n",
    "        max1 = len(i)\n",
    "print(max1)\n",
    "print(len(X))\n",
    "print(len(y))"
   ]
  },
  {
   "cell_type": "code",
   "execution_count": 6,
   "id": "bd026b9d",
   "metadata": {},
   "outputs": [
    {
     "data": {
      "text/plain": [
       "(1217325, 167)"
      ]
     },
     "execution_count": 6,
     "metadata": {},
     "output_type": "execute_result"
    }
   ],
   "source": [
    "X1 = []\n",
    "for XD in X:\n",
    "    X1.append(pad_sequences([XD], maxlen=max1, padding='pre'))\n",
    "    \n",
    "X1 = np.asarray(X1)\n",
    "\n",
    "X2 = []\n",
    "for i in X1:\n",
    "    X2.append(i[0])\n",
    "    \n",
    "    \n",
    "X2 = np.asarray(X2)\n",
    "X = X2\n",
    "X2 = []\n",
    "X1 = []\n",
    "np.shape(X)"
   ]
  },
  {
   "cell_type": "code",
   "execution_count": null,
   "id": "38ee0532",
   "metadata": {},
   "outputs": [],
   "source": [
    "X_train, X_test, y_train, y_test = train_test_split(X, y, test_size=0.2, random_state=10)"
   ]
  },
  {
   "cell_type": "code",
   "execution_count": null,
   "id": "8e0256b2",
   "metadata": {},
   "outputs": [],
   "source": [
    "X_train[0:5]"
   ]
  },
  {
   "cell_type": "code",
   "execution_count": null,
   "id": "3a4d38e7",
   "metadata": {},
   "outputs": [],
   "source": [
    "y_train[0:5]"
   ]
  },
  {
   "cell_type": "code",
   "execution_count": null,
   "id": "e0a30b9b",
   "metadata": {},
   "outputs": [],
   "source": [
    "np.set_printoptions(precision=None, suppress=True)\n",
    "early_stopping = EarlyStopping(monitor='val_loss', mode='min', verbose=1, patience=2, restore_best_weights=True)"
   ]
  },
  {
   "cell_type": "code",
   "execution_count": null,
   "id": "5e7f8877",
   "metadata": {},
   "outputs": [],
   "source": [
    "# Perplexity has to be calculated in batches or it crashes.\n",
    "def perplexity(Xp, yp, model):\n",
    "    chance = 0\n",
    "    current_index = 0\n",
    "    batch_size = 500\n",
    "    rang = int(len(Xp) / batch_size) - 1\n",
    "    length = batch_size * rang\n",
    "    for _ in range(rang):\n",
    "        distributionList = model.predict(Xp[current_index:current_index + batch_size], batch_size)\n",
    "    \n",
    "        tempcount = current_index\n",
    "        for distribution in distributionList:\n",
    "            chance += math.log2(distribution[np.nonzero(yp[tempcount])[0][0]])\n",
    "            tempcount += 1\n",
    "            \n",
    "        current_index = current_index + batch_size \n",
    "    return 2**((-1/length)* chance)"
   ]
  },
  {
   "cell_type": "code",
   "execution_count": null,
   "id": "fb916d13",
   "metadata": {},
   "outputs": [],
   "source": [
    "model_checkpoint_callback = keras.callbacks.ModelCheckpoint(\n",
    "    filepath= \"modelcheckP.h5\",\n",
    "    save_weights_only=True,\n",
    "    monitor='val_loss',\n",
    "    mode='min',\n",
    "    save_best_only=True)\n",
    "\n",
    "\n",
    "optimizer = keras.optimizers.Adam(0.001, beta_1=0.9, beta_2=0.999, epsilon=1e-07)\n",
    "# Create the model\n",
    "\n",
    "model = Sequential()\n",
    "\n",
    "# V = vocab size\n",
    "model.add(Embedding(v, 200, input_length = max1))\n",
    "model.add(CuDNNLSTM(256 return_sequences=True))\n",
    "\n",
    "model.add(Dropout(0.2))\n",
    "model.add(CuDNNLSTM(256))\n",
    "\n",
    "model.add(Dense(v, activation='softmax'))\n",
    "\n",
    "model.compile(loss='categorical_crossentropy', optimizer=optimizer)\n",
    "\n",
    "\n",
    "history = model.fit(X_train, y_train, epochs=100, verbose=1, batch_size=256, callbacks=[early_stopping,model_checkpoint_callback], validation_data=(X_test, y_test))\n",
    "\n",
    "\n",
    "\n",
    "perplex = perplexity(X_test, y_test, model)\n",
    "print(perplex)\n",
    "   \n"
   ]
  }
 ],
 "metadata": {
  "kernelspec": {
   "display_name": "Python 3",
   "language": "python",
   "name": "python3"
  },
  "language_info": {
   "codemirror_mode": {
    "name": "ipython",
    "version": 3
   },
   "file_extension": ".py",
   "mimetype": "text/x-python",
   "name": "python",
   "nbconvert_exporter": "python",
   "pygments_lexer": "ipython3",
   "version": "3.7.10"
  }
 },
 "nbformat": 4,
 "nbformat_minor": 5
}

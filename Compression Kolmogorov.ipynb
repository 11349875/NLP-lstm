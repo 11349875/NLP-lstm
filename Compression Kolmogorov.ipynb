{
 "cells": [
  {
   "cell_type": "code",
   "execution_count": 1,
   "id": "60467690",
   "metadata": {},
   "outputs": [],
   "source": [
    "from zipfile import ZipFile\n",
    "import zipfile\n",
    "import os\n",
    "import pylzma"
   ]
  },
  {
   "cell_type": "code",
   "execution_count": null,
   "id": "ad49f549",
   "metadata": {},
   "outputs": [],
   "source": [
    "# Compresses file using ZIPFILE algorithm\n",
    "\n",
    "for direc in os.listdir('data'):\n",
    "    for direc1 in os.listdir('data/' + direc):\n",
    "        if direc1[0] == \"C\":\n",
    "            ZipFile('zipped/' + direc1 + '.zip', 'w', zipfile.ZIP_DEFLATED).write('data/' + direc + '/' + direc1)"
   ]
  },
  {
   "cell_type": "code",
   "execution_count": 25,
   "id": "f2163e48",
   "metadata": {},
   "outputs": [],
   "source": [
    "# Compresses file using LZMA algorithm\n",
    "\n",
    "for direc in os.listdir('data'):\n",
    "    for direc1 in os.listdir('data/' + direc):\n",
    "        if direc1[0] == \"C\":            \n",
    "            i = open('data/' + direc + '/' + direc1, 'rb')\n",
    "            o = open('zipped_lzma/' + direc1 + '.zip', 'wb')\n",
    "            i.seek(0)\n",
    "            s = pylzma.compressfile(i)\n",
    "            while True:\n",
    "                tmp = s.read(1)\n",
    "                if not tmp: break\n",
    "                o.write(tmp)\n",
    "            o.close()\n",
    "            i.close()"
   ]
  }
 ],
 "metadata": {
  "kernelspec": {
   "display_name": "Python 3",
   "language": "python",
   "name": "python3"
  },
  "language_info": {
   "codemirror_mode": {
    "name": "ipython",
    "version": 3
   },
   "file_extension": ".py",
   "mimetype": "text/x-python",
   "name": "python",
   "nbconvert_exporter": "python",
   "pygments_lexer": "ipython3",
   "version": "3.7.10"
  }
 },
 "nbformat": 4,
 "nbformat_minor": 5
}
